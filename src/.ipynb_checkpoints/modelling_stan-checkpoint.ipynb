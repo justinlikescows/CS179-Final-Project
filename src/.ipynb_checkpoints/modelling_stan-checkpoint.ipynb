{
 "cells": [
  {
   "cell_type": "code",
   "execution_count": 16,
   "metadata": {},
   "outputs": [],
   "source": [
    "import matplotlib.pyplot as plt\n",
    "\n",
    "import pyGMs as gm\n",
    "import numpy as np\n",
    "import torch\n",
    "import random\n",
    "\n",
    "import requests                                      # reading data\n",
    "from io import StringIO\n",
    "import time\n",
    "\n",
    "import pyro\n",
    "import pyro.infer\n",
    "import pyro.optim\n",
    "import pyro.distributions as dist\n",
    "import torch.distributions.constraints as constraints\n",
    "import pyro.poutine as poutine\n",
    "\n",
    "import pandas as pd\n",
    "import torch\n",
    "from pyro.infer import SVI, Trace_ELBO\n",
    "from pyro.optim import Adam\n",
    "\n",
    "from cmdstanpy import CmdStanModel\n",
    "import cmdstanpy\n",
    "import stan\n",
    "import nest_asyncio\n",
    "from sklearn.preprocessing import LabelEncoder\n",
    "import pickle\n",
    "\n",
    "\n",
    "from IPython.display import display, clear_output  # for iterative plotting\n",
    "\n",
    "nest_asyncio.apply()\n",
    "\n",
    "seed = 123\n",
    "random.seed(seed)\n",
    "pyro.set_rng_seed(seed)"
   ]
  },
  {
   "cell_type": "markdown",
   "metadata": {},
   "source": [
    "Most models use the Bradley–Terry or some version of it. For more information about the model: https://en.wikipedia.org/wiki/Bradley%E2%80%93Terry_model"
   ]
  },
  {
   "cell_type": "markdown",
   "metadata": {},
   "source": [
    "# Model 1"
   ]
  },
  {
   "cell_type": "markdown",
   "metadata": {},
   "source": [
    "Baseline model with only latent ratings and win/lose result"
   ]
  },
  {
   "cell_type": "code",
   "execution_count": 30,
   "metadata": {},
   "outputs": [],
   "source": [
    "path = \"../data/processed/games_clean.csv\"\n",
    "data = pd.read_csv(path)\n",
    "    \n",
    "player_encoder = LabelEncoder()\n",
    "all_players = pd.concat([data['white_id'], data['black_id']]).unique()\n",
    "player_encoder.fit(all_players)\n",
    "\n",
    "data['white_id_encoded'] = player_encoder.transform(data['white_id'])\n",
    "data['black_id_encoded'] = player_encoder.transform(data['black_id'])\n",
    "data = data[data['result'] != 0.5]\n",
    "data['result'] = data['result'].astype(int)\n",
    "\n",
    "stan_data = {\n",
    "    'N': len(data),\n",
    "    'K': len(player_encoder.classes_),\n",
    "    'white': data['white_id_encoded'].values + 1,\n",
    "    'black': data['black_id_encoded'].values + 1,\n",
    "    'result': data['result'].values,\n",
    "    'prior_mu': 0.0,  # Prior mean for player skills\n",
    "    'prior_sigma': 3.0  # Prior std dev for player skills\n",
    "}"
   ]
  },
  {
   "cell_type": "code",
   "execution_count": 31,
   "metadata": {},
   "outputs": [
    {
     "name": "stderr",
     "output_type": "stream",
     "text": [
      "14:28:18 - cmdstanpy - INFO - CmdStan start processing\n"
     ]
    },
    {
     "data": {
      "application/vnd.jupyter.widget-view+json": {
       "model_id": "00af32542dc440219683e6f530d5066c",
       "version_major": 2,
       "version_minor": 0
      },
      "text/plain": [
       "chain 1 |          | 00:00 Status"
      ]
     },
     "metadata": {},
     "output_type": "display_data"
    },
    {
     "data": {
      "application/vnd.jupyter.widget-view+json": {
       "model_id": "45ee4e2167e74aae864b943befa052be",
       "version_major": 2,
       "version_minor": 0
      },
      "text/plain": [
       "chain 2 |          | 00:00 Status"
      ]
     },
     "metadata": {},
     "output_type": "display_data"
    },
    {
     "data": {
      "application/vnd.jupyter.widget-view+json": {
       "model_id": "7621db8af93941a3aa24373dd53a0817",
       "version_major": 2,
       "version_minor": 0
      },
      "text/plain": [
       "chain 3 |          | 00:00 Status"
      ]
     },
     "metadata": {},
     "output_type": "display_data"
    },
    {
     "data": {
      "application/vnd.jupyter.widget-view+json": {
       "model_id": "6a355c96a21748198fe4a19b0035e715",
       "version_major": 2,
       "version_minor": 0
      },
      "text/plain": [
       "chain 4 |          | 00:00 Status"
      ]
     },
     "metadata": {},
     "output_type": "display_data"
    },
    {
     "name": "stdout",
     "output_type": "stream",
     "text": [
      "                                                                                                                                                                                                                                                                                                                                "
     ]
    },
    {
     "name": "stderr",
     "output_type": "stream",
     "text": [
      "14:31:16 - cmdstanpy - INFO - CmdStan done processing.\n"
     ]
    },
    {
     "name": "stdout",
     "output_type": "stream",
     "text": [
      "\n"
     ]
    }
   ],
   "source": [
    "model_dir = \"../models/stan_models/model1.stan\"\n",
    "posterior = CmdStanModel(stan_file = model_dir)\n",
    "fit = posterior.sample(data = stan_data)"
   ]
  },
  {
   "cell_type": "code",
   "execution_count": 34,
   "metadata": {},
   "outputs": [],
   "source": [
    "# Save model\n",
    "save_dir = \"../models/trained_models/stan/model1\"\n",
    "fit.save_csvfiles(dir=save_dir)"
   ]
  },
  {
   "cell_type": "code",
   "execution_count": 18,
   "metadata": {},
   "outputs": [],
   "source": [
    "# Load model\n",
    "load_dir = \"../models/trained_models/stan/model1\"\n",
    "fit = cmdstanpy.from_csv(f\"{save_dir}\")"
   ]
  },
  {
   "cell_type": "code",
   "execution_count": 33,
   "metadata": {},
   "outputs": [
    {
     "data": {
      "text/html": [
       "<div>\n",
       "<style scoped>\n",
       "    .dataframe tbody tr th:only-of-type {\n",
       "        vertical-align: middle;\n",
       "    }\n",
       "\n",
       "    .dataframe tbody tr th {\n",
       "        vertical-align: top;\n",
       "    }\n",
       "\n",
       "    .dataframe thead th {\n",
       "        text-align: right;\n",
       "    }\n",
       "</style>\n",
       "<table border=\"1\" class=\"dataframe\">\n",
       "  <thead>\n",
       "    <tr style=\"text-align: right;\">\n",
       "      <th></th>\n",
       "      <th>player</th>\n",
       "      <th>skill</th>\n",
       "      <th>skill_std</th>\n",
       "    </tr>\n",
       "  </thead>\n",
       "  <tbody>\n",
       "    <tr>\n",
       "      <th>709</th>\n",
       "      <td>amir2002zzz</td>\n",
       "      <td>6.149062</td>\n",
       "      <td>1.690257</td>\n",
       "    </tr>\n",
       "    <tr>\n",
       "      <th>2348</th>\n",
       "      <td>chesscarl</td>\n",
       "      <td>6.033700</td>\n",
       "      <td>1.140120</td>\n",
       "    </tr>\n",
       "    <tr>\n",
       "      <th>10845</th>\n",
       "      <td>siindbad</td>\n",
       "      <td>6.014834</td>\n",
       "      <td>1.571361</td>\n",
       "    </tr>\n",
       "    <tr>\n",
       "      <th>8012</th>\n",
       "      <td>mmichael</td>\n",
       "      <td>5.996825</td>\n",
       "      <td>1.661663</td>\n",
       "    </tr>\n",
       "    <tr>\n",
       "      <th>10999</th>\n",
       "      <td>smilsydov</td>\n",
       "      <td>5.442687</td>\n",
       "      <td>1.229748</td>\n",
       "    </tr>\n",
       "    <tr>\n",
       "      <th>6919</th>\n",
       "      <td>liamschauerman</td>\n",
       "      <td>5.403297</td>\n",
       "      <td>1.798973</td>\n",
       "    </tr>\n",
       "    <tr>\n",
       "      <th>8792</th>\n",
       "      <td>oilen1401</td>\n",
       "      <td>5.354351</td>\n",
       "      <td>2.112978</td>\n",
       "    </tr>\n",
       "    <tr>\n",
       "      <th>9969</th>\n",
       "      <td>ridics</td>\n",
       "      <td>5.216526</td>\n",
       "      <td>1.180002</td>\n",
       "    </tr>\n",
       "    <tr>\n",
       "      <th>11892</th>\n",
       "      <td>tony995</td>\n",
       "      <td>5.140690</td>\n",
       "      <td>1.802736</td>\n",
       "    </tr>\n",
       "    <tr>\n",
       "      <th>4318</th>\n",
       "      <td>futuro_gm22</td>\n",
       "      <td>5.072594</td>\n",
       "      <td>1.725142</td>\n",
       "    </tr>\n",
       "  </tbody>\n",
       "</table>\n",
       "</div>"
      ],
      "text/plain": [
       "               player     skill  skill_std\n",
       "709       amir2002zzz  6.149062   1.690257\n",
       "2348        chesscarl  6.033700   1.140120\n",
       "10845        siindbad  6.014834   1.571361\n",
       "8012         mmichael  5.996825   1.661663\n",
       "10999       smilsydov  5.442687   1.229748\n",
       "6919   liamschauerman  5.403297   1.798973\n",
       "8792        oilen1401  5.354351   2.112978\n",
       "9969           ridics  5.216526   1.180002\n",
       "11892         tony995  5.140690   1.802736\n",
       "4318      futuro_gm22  5.072594   1.725142"
      ]
     },
     "execution_count": 33,
     "metadata": {},
     "output_type": "execute_result"
    }
   ],
   "source": [
    "skills = fit.stan_variable(\"skill\")\n",
    "mean_skills = np.mean(skills, axis=0)\n",
    "\n",
    "players = player_encoder.classes_\n",
    "results_df = pd.DataFrame({\n",
    "    'player': players,\n",
    "    'skill': mean_skills,\n",
    "    'skill_std': np.std(skills, axis=0)\n",
    "}).sort_values('skill', ascending=False)\n",
    "\n",
    "results_df.head(10)"
   ]
  },
  {
   "cell_type": "markdown",
   "metadata": {},
   "source": [
    "## Evaluation"
   ]
  },
  {
   "cell_type": "code",
   "execution_count": 75,
   "metadata": {},
   "outputs": [],
   "source": [
    "..."
   ]
  },
  {
   "cell_type": "markdown",
   "metadata": {},
   "source": [
    "# Model 2"
   ]
  },
  {
   "cell_type": "markdown",
   "metadata": {},
   "source": [
    "Model with results win/lose/draw. Uses Rao and Kupper's variation of the Bradley-Terry model. For more information visit: \n",
    "* source 1: https://www.jstor.org/stable/2283595?seq=9 \n",
    "* source 2: https://encyclopediaofmath.org/wiki/Paired_comparison_model"
   ]
  },
  {
   "cell_type": "code",
   "execution_count": 76,
   "metadata": {},
   "outputs": [],
   "source": [
    "path = \"../data/processed/games_clean.csv\"\n",
    "data = pd.read_csv(path)\n",
    "    \n",
    "player_encoder = LabelEncoder()\n",
    "all_players = pd.concat([data['white_id'], data['black_id']]).unique()\n",
    "player_encoder.fit(all_players)\n",
    "\n",
    "data['white_id_encoded'] = player_encoder.transform(data['white_id'])\n",
    "data['black_id_encoded'] = player_encoder.transform(data['black_id'])\n",
    "\n",
    "data['result'] = data['result'].apply(lambda x: 2 if x > 0.5 else (1 if x == 0.5 else 0))\n",
    "\n",
    "stan_data = {\n",
    "        'N': len(data),\n",
    "        'K': len(player_encoder.classes_),\n",
    "        'white': player_encoder.transform(data['white_id']) + 1,\n",
    "        'black': player_encoder.transform(data['black_id']) + 1,\n",
    "        'result': data['result'].values,\n",
    "        'theta_prior_mean': 2.0\n",
    "    }"
   ]
  },
  {
   "cell_type": "code",
   "execution_count": 77,
   "metadata": {},
   "outputs": [
    {
     "name": "stderr",
     "output_type": "stream",
     "text": [
      "16:03:55 - cmdstanpy - INFO - compiling stan file /var/folders/9c/jg04wx2578v74k112x9wc48c0000gn/T/tmplmkb41e1/tmpvnnns927.stan to exe file /Users/hanseo/Documents/UCI/Spring 25/CS 179/project/CS179-Final-Project/models/stan_models/model2\n",
      "16:04:04 - cmdstanpy - INFO - compiled model executable: /Users/hanseo/Documents/UCI/Spring 25/CS 179/project/CS179-Final-Project/models/stan_models/model2\n",
      "16:04:04 - cmdstanpy - INFO - CmdStan start processing\n"
     ]
    },
    {
     "data": {
      "application/vnd.jupyter.widget-view+json": {
       "model_id": "14c7c29572db43cb8bf3d2094475f58b",
       "version_major": 2,
       "version_minor": 0
      },
      "text/plain": [
       "chain 1 |          | 00:00 Status"
      ]
     },
     "metadata": {},
     "output_type": "display_data"
    },
    {
     "data": {
      "application/vnd.jupyter.widget-view+json": {
       "model_id": "7fae1a82b83b44578fdba945504266ea",
       "version_major": 2,
       "version_minor": 0
      },
      "text/plain": [
       "chain 2 |          | 00:00 Status"
      ]
     },
     "metadata": {},
     "output_type": "display_data"
    },
    {
     "data": {
      "application/vnd.jupyter.widget-view+json": {
       "model_id": "4a4da08969644851b516c4642f290822",
       "version_major": 2,
       "version_minor": 0
      },
      "text/plain": [
       "chain 3 |          | 00:00 Status"
      ]
     },
     "metadata": {},
     "output_type": "display_data"
    },
    {
     "data": {
      "application/vnd.jupyter.widget-view+json": {
       "model_id": "253b61893bfe4947877b7a1900c98e50",
       "version_major": 2,
       "version_minor": 0
      },
      "text/plain": [
       "chain 4 |          | 00:00 Status"
      ]
     },
     "metadata": {},
     "output_type": "display_data"
    },
    {
     "name": "stdout",
     "output_type": "stream",
     "text": [
      "                                                                                                                                                                                                                                                                                                                                "
     ]
    },
    {
     "name": "stderr",
     "output_type": "stream",
     "text": [
      "16:06:41 - cmdstanpy - INFO - CmdStan done processing.\n"
     ]
    },
    {
     "name": "stdout",
     "output_type": "stream",
     "text": [
      "\n"
     ]
    }
   ],
   "source": [
    "model_dir = \"../models/stan_models/model2.stan\"\n",
    "posterior = CmdStanModel(stan_file = model_dir)\n",
    "fit = posterior.sample(data = stan_data)"
   ]
  },
  {
   "cell_type": "code",
   "execution_count": 78,
   "metadata": {},
   "outputs": [],
   "source": [
    "# Save model\n",
    "save_dir = \"../models/trained_models/stan/model2\"\n",
    "fit.save_csvfiles(dir=save_dir)"
   ]
  },
  {
   "cell_type": "code",
   "execution_count": 79,
   "metadata": {},
   "outputs": [],
   "source": [
    "# Load model\n",
    "load_dir = \"../models/trained_models/stan/model2\"\n",
    "fit = cmdstanpy.from_csv(f\"{save_dir}\")"
   ]
  },
  {
   "cell_type": "code",
   "execution_count": 80,
   "metadata": {},
   "outputs": [
    {
     "data": {
      "text/html": [
       "<div>\n",
       "<style scoped>\n",
       "    .dataframe tbody tr th:only-of-type {\n",
       "        vertical-align: middle;\n",
       "    }\n",
       "\n",
       "    .dataframe tbody tr th {\n",
       "        vertical-align: top;\n",
       "    }\n",
       "\n",
       "    .dataframe thead th {\n",
       "        text-align: right;\n",
       "    }\n",
       "</style>\n",
       "<table border=\"1\" class=\"dataframe\">\n",
       "  <thead>\n",
       "    <tr style=\"text-align: right;\">\n",
       "      <th></th>\n",
       "      <th>player</th>\n",
       "      <th>skill</th>\n",
       "      <th>skill_std</th>\n",
       "    </tr>\n",
       "  </thead>\n",
       "  <tbody>\n",
       "    <tr>\n",
       "      <th>2348</th>\n",
       "      <td>chesscarl</td>\n",
       "      <td>2.864627</td>\n",
       "      <td>0.529789</td>\n",
       "    </tr>\n",
       "    <tr>\n",
       "      <th>10999</th>\n",
       "      <td>smilsydov</td>\n",
       "      <td>2.551158</td>\n",
       "      <td>0.537524</td>\n",
       "    </tr>\n",
       "    <tr>\n",
       "      <th>10845</th>\n",
       "      <td>siindbad</td>\n",
       "      <td>2.518322</td>\n",
       "      <td>0.603038</td>\n",
       "    </tr>\n",
       "    <tr>\n",
       "      <th>8012</th>\n",
       "      <td>mmichael</td>\n",
       "      <td>2.276905</td>\n",
       "      <td>0.611299</td>\n",
       "    </tr>\n",
       "    <tr>\n",
       "      <th>2503</th>\n",
       "      <td>christina-a-11</td>\n",
       "      <td>2.162887</td>\n",
       "      <td>0.578739</td>\n",
       "    </tr>\n",
       "    <tr>\n",
       "      <th>9969</th>\n",
       "      <td>ridics</td>\n",
       "      <td>2.038823</td>\n",
       "      <td>0.595194</td>\n",
       "    </tr>\n",
       "    <tr>\n",
       "      <th>11940</th>\n",
       "      <td>traced</td>\n",
       "      <td>1.956823</td>\n",
       "      <td>0.510173</td>\n",
       "    </tr>\n",
       "    <tr>\n",
       "      <th>3688</th>\n",
       "      <td>elvis1997</td>\n",
       "      <td>1.881738</td>\n",
       "      <td>0.432609</td>\n",
       "    </tr>\n",
       "    <tr>\n",
       "      <th>6638</th>\n",
       "      <td>krishchennai93</td>\n",
       "      <td>1.841691</td>\n",
       "      <td>0.687530</td>\n",
       "    </tr>\n",
       "    <tr>\n",
       "      <th>11715</th>\n",
       "      <td>theshelton</td>\n",
       "      <td>1.821735</td>\n",
       "      <td>0.586291</td>\n",
       "    </tr>\n",
       "  </tbody>\n",
       "</table>\n",
       "</div>"
      ],
      "text/plain": [
       "               player     skill  skill_std\n",
       "2348        chesscarl  2.864627   0.529789\n",
       "10999       smilsydov  2.551158   0.537524\n",
       "10845        siindbad  2.518322   0.603038\n",
       "8012         mmichael  2.276905   0.611299\n",
       "2503   christina-a-11  2.162887   0.578739\n",
       "9969           ridics  2.038823   0.595194\n",
       "11940          traced  1.956823   0.510173\n",
       "3688        elvis1997  1.881738   0.432609\n",
       "6638   krishchennai93  1.841691   0.687530\n",
       "11715      theshelton  1.821735   0.586291"
      ]
     },
     "execution_count": 80,
     "metadata": {},
     "output_type": "execute_result"
    }
   ],
   "source": [
    "skills = fit.stan_variable(\"skill\")\n",
    "mean_skills = np.mean(skills, axis=0)\n",
    "\n",
    "players = player_encoder.classes_\n",
    "results_df = pd.DataFrame({\n",
    "    'player': players,\n",
    "    'skill': mean_skills,\n",
    "    'skill_std': np.std(skills, axis=0)\n",
    "}).sort_values('skill', ascending=False)\n",
    "\n",
    "results_df.head(10)"
   ]
  },
  {
   "cell_type": "markdown",
   "metadata": {},
   "source": [
    "## Evaluation"
   ]
  },
  {
   "cell_type": "code",
   "execution_count": null,
   "metadata": {},
   "outputs": [],
   "source": [
    "..."
   ]
  },
  {
   "cell_type": "markdown",
   "metadata": {},
   "source": [
    "# Model 3"
   ]
  },
  {
   "cell_type": "markdown",
   "metadata": {},
   "source": [
    "Baseline model with only latent ratings, filtering any player with less than 4 games played"
   ]
  },
  {
   "cell_type": "code",
   "execution_count": 86,
   "metadata": {},
   "outputs": [],
   "source": [
    "path = \"../data/processed/games_clean.csv\"\n",
    "data = pd.read_csv(path)\n",
    "\n",
    "white_counts = data['white_id'].value_counts()\n",
    "black_counts = data['black_id'].value_counts()\n",
    "total_counts = white_counts.add(black_counts, fill_value=0)\n",
    "\n",
    "qualified_players = total_counts[total_counts >= 4].index\n",
    "data = data[\n",
    "    data['white_id'].isin(qualified_players) & \n",
    "    data['black_id'].isin(qualified_players)\n",
    "]\n",
    "    \n",
    "player_encoder = LabelEncoder()\n",
    "all_players = pd.concat([data['white_id'], data['black_id']]).unique()\n",
    "player_encoder.fit(all_players)\n",
    "\n",
    "data['white_id_encoded'] = player_encoder.transform(data['white_id'])\n",
    "data['black_id_encoded'] = player_encoder.transform(data['black_id'])\n",
    "\n",
    "data['result'] = data['result'].apply(lambda x: 2 if x > 0.5 else (1 if x == 0.5 else 0))\n",
    "\n",
    "stan_data = {\n",
    "        'N': len(data),\n",
    "        'K': len(player_encoder.classes_),\n",
    "        'white': player_encoder.transform(data['white_id']) + 1,\n",
    "        'black': player_encoder.transform(data['black_id']) + 1,\n",
    "        'result': data['result'].values,\n",
    "        'theta_prior_mean': 2.0\n",
    "    }"
   ]
  },
  {
   "cell_type": "code",
   "execution_count": 92,
   "metadata": {},
   "outputs": [
    {
     "name": "stderr",
     "output_type": "stream",
     "text": [
      "16:09:34 - cmdstanpy - INFO - CmdStan start processing\n"
     ]
    },
    {
     "data": {
      "application/vnd.jupyter.widget-view+json": {
       "model_id": "c86d4f9e2532491289a8ee71d28033f8",
       "version_major": 2,
       "version_minor": 0
      },
      "text/plain": [
       "chain 1 |          | 00:00 Status"
      ]
     },
     "metadata": {},
     "output_type": "display_data"
    },
    {
     "data": {
      "application/vnd.jupyter.widget-view+json": {
       "model_id": "613d25e6da2f4b34a8897b644740f8cf",
       "version_major": 2,
       "version_minor": 0
      },
      "text/plain": [
       "chain 2 |          | 00:00 Status"
      ]
     },
     "metadata": {},
     "output_type": "display_data"
    },
    {
     "data": {
      "application/vnd.jupyter.widget-view+json": {
       "model_id": "1ea221e976984e1db2010ba3c1171371",
       "version_major": 2,
       "version_minor": 0
      },
      "text/plain": [
       "chain 3 |          | 00:00 Status"
      ]
     },
     "metadata": {},
     "output_type": "display_data"
    },
    {
     "data": {
      "application/vnd.jupyter.widget-view+json": {
       "model_id": "a0a83f0a104f43b0a9e04468ae7263bb",
       "version_major": 2,
       "version_minor": 0
      },
      "text/plain": [
       "chain 4 |          | 00:00 Status"
      ]
     },
     "metadata": {},
     "output_type": "display_data"
    },
    {
     "name": "stdout",
     "output_type": "stream",
     "text": [
      "                                                                                                                                                                                                                                                                                                                                "
     ]
    },
    {
     "name": "stderr",
     "output_type": "stream",
     "text": [
      "16:09:41 - cmdstanpy - INFO - CmdStan done processing.\n"
     ]
    },
    {
     "name": "stdout",
     "output_type": "stream",
     "text": [
      "\n"
     ]
    }
   ],
   "source": [
    "model_dir = \"../models/stan_models/model3.stan\"\n",
    "posterior = CmdStanModel(stan_file = model_dir, )\n",
    "fit = posterior.sample(data = stan_data)"
   ]
  },
  {
   "cell_type": "code",
   "execution_count": 93,
   "metadata": {},
   "outputs": [],
   "source": [
    "# Save model\n",
    "save_dir = \"../models/trained_models/stan/model3\"\n",
    "fit.save_csvfiles(dir=save_dir)"
   ]
  },
  {
   "cell_type": "code",
   "execution_count": 94,
   "metadata": {},
   "outputs": [],
   "source": [
    "# Load model\n",
    "load_dir = \"../models/trained_models/stan/model3\"\n",
    "fit = cmdstanpy.from_csv(f\"{save_dir}\")"
   ]
  },
  {
   "cell_type": "code",
   "execution_count": 95,
   "metadata": {},
   "outputs": [
    {
     "data": {
      "text/html": [
       "<div>\n",
       "<style scoped>\n",
       "    .dataframe tbody tr th:only-of-type {\n",
       "        vertical-align: middle;\n",
       "    }\n",
       "\n",
       "    .dataframe tbody tr th {\n",
       "        vertical-align: top;\n",
       "    }\n",
       "\n",
       "    .dataframe thead th {\n",
       "        text-align: right;\n",
       "    }\n",
       "</style>\n",
       "<table border=\"1\" class=\"dataframe\">\n",
       "  <thead>\n",
       "    <tr style=\"text-align: right;\">\n",
       "      <th></th>\n",
       "      <th>player</th>\n",
       "      <th>skill</th>\n",
       "      <th>skill_std</th>\n",
       "    </tr>\n",
       "  </thead>\n",
       "  <tbody>\n",
       "    <tr>\n",
       "      <th>128</th>\n",
       "      <td>cdvh</td>\n",
       "      <td>2.005195</td>\n",
       "      <td>0.735567</td>\n",
       "    </tr>\n",
       "    <tr>\n",
       "      <th>140</th>\n",
       "      <td>chesscarl</td>\n",
       "      <td>1.650286</td>\n",
       "      <td>0.747374</td>\n",
       "    </tr>\n",
       "    <tr>\n",
       "      <th>368</th>\n",
       "      <td>laode_syahril</td>\n",
       "      <td>1.630026</td>\n",
       "      <td>0.634443</td>\n",
       "    </tr>\n",
       "    <tr>\n",
       "      <th>515</th>\n",
       "      <td>projetoxadrez</td>\n",
       "      <td>1.620197</td>\n",
       "      <td>0.800732</td>\n",
       "    </tr>\n",
       "    <tr>\n",
       "      <th>534</th>\n",
       "      <td>romanar2006</td>\n",
       "      <td>1.550053</td>\n",
       "      <td>0.738860</td>\n",
       "    </tr>\n",
       "    <tr>\n",
       "      <th>149</th>\n",
       "      <td>chiggen</td>\n",
       "      <td>1.513841</td>\n",
       "      <td>0.800045</td>\n",
       "    </tr>\n",
       "    <tr>\n",
       "      <th>266</th>\n",
       "      <td>great-mate-super-gre</td>\n",
       "      <td>1.357168</td>\n",
       "      <td>0.800836</td>\n",
       "    </tr>\n",
       "    <tr>\n",
       "      <th>668</th>\n",
       "      <td>vitaminex</td>\n",
       "      <td>1.334118</td>\n",
       "      <td>0.739410</td>\n",
       "    </tr>\n",
       "    <tr>\n",
       "      <th>173</th>\n",
       "      <td>daniamurashov</td>\n",
       "      <td>1.295491</td>\n",
       "      <td>0.749300</td>\n",
       "    </tr>\n",
       "    <tr>\n",
       "      <th>679</th>\n",
       "      <td>wiggleitjiggleit</td>\n",
       "      <td>1.292181</td>\n",
       "      <td>0.661252</td>\n",
       "    </tr>\n",
       "  </tbody>\n",
       "</table>\n",
       "</div>"
      ],
      "text/plain": [
       "                   player     skill  skill_std\n",
       "128                  cdvh  2.005195   0.735567\n",
       "140             chesscarl  1.650286   0.747374\n",
       "368         laode_syahril  1.630026   0.634443\n",
       "515         projetoxadrez  1.620197   0.800732\n",
       "534           romanar2006  1.550053   0.738860\n",
       "149               chiggen  1.513841   0.800045\n",
       "266  great-mate-super-gre  1.357168   0.800836\n",
       "668             vitaminex  1.334118   0.739410\n",
       "173         daniamurashov  1.295491   0.749300\n",
       "679      wiggleitjiggleit  1.292181   0.661252"
      ]
     },
     "execution_count": 95,
     "metadata": {},
     "output_type": "execute_result"
    }
   ],
   "source": [
    "skills = fit.stan_variable(\"skill\")\n",
    "mean_skills = np.mean(skills, axis=0)\n",
    "\n",
    "players = player_encoder.classes_\n",
    "results_df = pd.DataFrame({\n",
    "    'player': players,\n",
    "    'skill': mean_skills,\n",
    "    'skill_std': np.std(skills, axis=0)\n",
    "}).sort_values('skill', ascending=False)\n",
    "\n",
    "results_df.head(10)"
   ]
  },
  {
   "cell_type": "markdown",
   "metadata": {},
   "source": [
    "## Evaluation"
   ]
  },
  {
   "cell_type": "code",
   "execution_count": 56,
   "metadata": {},
   "outputs": [
    {
     "data": {
      "text/plain": [
       "Ellipsis"
      ]
     },
     "execution_count": 56,
     "metadata": {},
     "output_type": "execute_result"
    }
   ],
   "source": [
    "..."
   ]
  },
  {
   "cell_type": "markdown",
   "metadata": {},
   "source": [
    "# Model 4 (Tentative)"
   ]
  },
  {
   "cell_type": "markdown",
   "metadata": {},
   "source": [
    "Skill estimation with piece color adjustment factor"
   ]
  }
 ],
 "metadata": {
  "kernelspec": {
   "display_name": "Python 3 (ipykernel)",
   "language": "python",
   "name": "python3"
  },
  "language_info": {
   "codemirror_mode": {
    "name": "ipython",
    "version": 3
   },
   "file_extension": ".py",
   "mimetype": "text/x-python",
   "name": "python",
   "nbconvert_exporter": "python",
   "pygments_lexer": "ipython3",
   "version": "3.11.1"
  }
 },
 "nbformat": 4,
 "nbformat_minor": 2
}
